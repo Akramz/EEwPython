{
 "cells": [
  {
   "cell_type": "markdown",
   "metadata": {
    "colab_type": "text",
    "id": "oT30_0wOz5-P"
   },
   "source": [
    "> *This notebook is part of the free course [EEwPython](https://colab.research.google.com/github/csaybar/EEwPython/blob/master/index.ipynb); the content is available [on GitHub](https://github.com/csaybar/EEwPython)* and released under the [Apache 2.0 License](https://www.gnu.org/licenses/gpl-3.0.en.html). 99% of this material has been adapted from [Google Earth Engine Guides](https://developers.google.com/earth-engine/)."
   ]
  },
  {
   "cell_type": "markdown",
   "metadata": {
    "colab_type": "text",
    "id": "5AkUqloUQpXv"
   },
   "source": [
    "<center>\n",
    "<h1>Google Earth Engine with Python </h1>\n",
    "<h2> Developer's Guide </h2>\n",
    "</center>\n",
    "<h2> Topics:</h2>\n",
    "\n",
    "3. What is Google Earth Engine?\n",
    "4. Why colab with python instead of code editor (Javascript)?\n",
    "5. Connecting GEE with other Google Services\n",
    "6. Hello World!\n",
    "7. Fundamental Earth Engine data structures"
   ]
  },
  {
   "cell_type": "markdown",
   "metadata": {
    "colab_type": "text",
    "id": "Asixz4C0T02x"
   },
   "source": [
    "## 3. What is Google Earth Engine?\n",
    "Google Earth Engine is a computing platform that allows users to run geospatial analysis on Google's infrastructure. There are several ways to interact with the platform:\n",
    "\n",
    "  - [Explorer](https://explorer.earthengine.google.com/)\n",
    "  - [Code Editor](https://code.earthengine.google.com/)  \n",
    "  - [Javascript wrapper library](https://github.com/google/earthengine-api/tree/master/javascript)\n",
    "  - [**Python wrapper library**](https://github.com/google/earthengine-api/tree/master/python)\n",
    "\n",
    "This course is focus in the last one, you can use the **Python wrapper lbrary** to build [custom applications](https://github.com/google/earthengine-api/tree/master/demos) and to develop Earth Engine code locally. Continue the *EEwPython* for an overview of this, or visit the **[Earth Engine’s Developer Guide](https://developers.google.com/earth-engine/getstarted)**  or the demos hosted in [GitHub](https://github.com/google/earthengine-api) for an in-depth guide.\n",
    "\n",
    "The purpose of Earth Engine is to:\n",
    "\n",
    "- Perform highly-interactive algorithm development at global scale\n",
    "\n",
    "- Push the edge of the envelope for big data in remote sensing\n",
    "\n",
    "- Enable high-impact, data-driven science\n",
    "\n",
    "- Make substantive progress on global challenges that involve large geospatial datasets\n",
    "\n",
    "### Components:\n",
    "\n",
    "The main components of Earth Engine are:\n",
    "\n",
    "- [**Datasets**](https://developers.google.com/earth-engine/datasets/): A petabyte-scale archive of publicly available remotely sensed imagery and other data. Explore the data catalog.\n",
    "\n",
    "- [**Compute power**](https://reader.elsevier.com/reader/sd/pii/S0034425717302900?token=2AC58EA43ED5306A13DA0E6AF50A5F286D59B455B45F52F9932FE71845E5C75C706C78E079BC3769B23B256612A225D0): Google’s computational infrastructure optimized for parallel processing of geospatial data.\n",
    "\n",
    "- **APIs**: APIs for JavaScript and Python (hosted on GitHub) for making requests to the Earth Engine servers. These docs focus on JavaScript; (Get started guide for the Javascript API). For Python, see the Python install guide and the Python examples in the Earth Engine GitHub repository.\n",
    "\n",
    "- **Code Editor**: An online Integrated Development Environment (IDE) for rapid prototyping and visualization of complex spatial analyses using the Javascript API. Explore the Code Editor docs."
   ]
  },
  {
   "cell_type": "code",
   "execution_count": 6,
   "metadata": {
    "cellView": "form",
    "colab": {
     "base_uri": "https://localhost:8080/",
     "height": 335
    },
    "colab_type": "code",
    "id": "QgDV721Tg2kD",
    "outputId": "5b63ae15-6740-40ec-919a-2ce857bfb2d9"
   },
   "outputs": [
    {
     "data": {
      "text/html": [
       "<center><iframe width=\"560\" height=\"315\" src=\"https://www.youtube.com/embed/gKGOeTFHnKY\" frameborder=\"0\" allow=\"accelerometer; autoplay; encrypted-media; gyroscope; picture-in-picture\" allowfullscreen></iframe></center>"
      ],
      "text/plain": [
       "<IPython.core.display.HTML object>"
      ]
     },
     "execution_count": 6,
     "metadata": {},
     "output_type": "execute_result"
    }
   ],
   "source": [
    "#@title ### Meet Earth Engine\n",
    "from IPython.display import HTML\n",
    "HTML('<center><iframe width=\"560\" height=\"315\" src=\"https://www.youtube.com/embed/gKGOeTFHnKY\" frameborder=\"0\" allow=\"accelerometer; autoplay; encrypted-media; gyroscope; picture-in-picture\" allowfullscreen></iframe></center>')"
   ]
  },
  {
   "cell_type": "markdown",
   "metadata": {
    "colab_type": "text",
    "id": "_jMW3xWUg6Gr"
   },
   "source": [
    "\n",
    "### Note about access and API stability\n",
    "The Earth Engine API and advanced Earth Engine functionality are experimental and subject to change. Access is limited and requires requesting access via our form."
   ]
  },
  {
   "cell_type": "markdown",
   "metadata": {
    "colab_type": "text",
    "id": "9CRoDhQNiHC8"
   },
   "source": [
    "## 4. Why colab with python instead of code editor (Javascript)?\n",
    "\n",
    "A short comparison thanks to [Tyler Erickson presentation](https://docs.google.com/presentation/d/1MVVeyCdm-FrMVRPop6wB3iyd85TAlwB-F9ygTQZ8S1w/pub?slide=id.g1e419debf0_1_205).\n",
    "\n",
    "**Javascript** | **Python**\n",
    "------------|-----------------\n",
    "- Easy to get started | - Easy to share code between scripts.\n",
    "- Trivial  to share scripts | - Easier transition  to a web application.\n",
    "- Built in authentication | - Allows for series of calls  to Earth Engine.\n",
    "- Limited input/output funcionality | - Many, many plotting options\n",
    "- Can't share code between scripts | - Some assembly (& maintenance) required!.\n",
    "\n"
   ]
  },
  {
   "cell_type": "markdown",
   "metadata": {
    "colab_type": "text",
    "id": "3fvjtgedmrxq"
   },
   "source": [
    "##  5. Connecting GEE with other Google Services\n",
    "\n",
    "\n",
    "The Earth Engine Python API and command line tools can be installed using Python's pip package installation tool.\n",
    "\n",
    "Psss!: The following notebook cell line is starts with ! to indicate that a shell command should be invoked."
   ]
  },
  {
   "cell_type": "code",
   "execution_count": 7,
   "metadata": {
    "colab": {},
    "colab_type": "code",
    "id": "_LSeUMzmoQpw"
   },
   "outputs": [],
   "source": [
    "# !pip install earthengine-api"
   ]
  },
  {
   "cell_type": "markdown",
   "metadata": {
    "colab_type": "text",
    "id": "iC8wVueFoT85"
   },
   "source": [
    "### Authentication \n",
    "\n",
    "To read/write from a Google Drive or Google Cloud Storage bucket to which you have access, it's necessary to authenticate (as yourself). You'll also need to authenticate as yourself with Earth Engine, so that you'll have access to your scripts, assets, etc.\n",
    "\n",
    "#### Authenticate to Earth Engine\n",
    "\n",
    "In order to access Earth Engine, signup at [signup.earthengine.google.com](https://signup.earthengine.google.com/).\n",
    "\n",
    "Identify yourself to Google Cloud, so you have access to storage and other resources. When you run the code below, it will display a link in the output to an authentication page in your browser. Follow the link to a page that will let you grant permission to the Google Earth Engine to access your resources. Copy the code from the permissions page back into this notebook and press return to complete the process.\n",
    "\n"
   ]
  },
  {
   "cell_type": "code",
   "execution_count": 8,
   "metadata": {
    "colab": {},
    "colab_type": "code",
    "id": "MeEs5x5uoevg"
   },
   "outputs": [],
   "source": [
    "# !earthengine authenticate"
   ]
  },
  {
   "cell_type": "markdown",
   "metadata": {
    "colab_type": "text",
    "id": "SQ2O6uE2uRgL"
   },
   "source": [
    "#### Authenticate to Google Drive\n",
    "\n",
    "Authenticate to **Google Drive** on  the same way you did to the Earth Engine."
   ]
  },
  {
   "cell_type": "code",
   "execution_count": 9,
   "metadata": {
    "colab": {},
    "colab_type": "code",
    "id": "SGq1N9ljuVbl"
   },
   "outputs": [],
   "source": [
    "# from google.colab import drive\n",
    "# drive.mount('/content/drive')"
   ]
  },
  {
   "cell_type": "markdown",
   "metadata": {
    "colab_type": "text",
    "id": "cxGc4qGJuY1K"
   },
   "source": [
    "#### Authenticate to Google Cloud\n",
    "\n",
    "Authenticate to **Google Cloud** on  the same way you did to the Earth Engine.\n"
   ]
  },
  {
   "cell_type": "code",
   "execution_count": 10,
   "metadata": {
    "colab": {},
    "colab_type": "code",
    "id": "RUsQ8LJQuefL"
   },
   "outputs": [],
   "source": [
    "# from google.colab import auth\n",
    "# auth.authenticate_user()"
   ]
  },
  {
   "cell_type": "markdown",
   "metadata": {
    "colab_type": "text",
    "id": "NHrBAom4whXN"
   },
   "source": [
    " Once you have authorized access (just Earth Engine auth is required). Initialize your connection as shown the cell below."
   ]
  },
  {
   "cell_type": "code",
   "execution_count": 11,
   "metadata": {
    "colab": {},
    "colab_type": "code",
    "id": "5F0WYN_8xECE"
   },
   "outputs": [],
   "source": [
    "# Import the Earth Engine API and initialize it.\n",
    "import ee\n",
    "ee.Initialize()"
   ]
  },
  {
   "cell_type": "markdown",
   "metadata": {
    "colab_type": "text",
    "id": "smUsOFYLy3J5"
   },
   "source": [
    "## 6. Hello World!\n",
    "\n",
    "\n",
    "- **assetID**: Is the key to identify a specific file in [GEE datasets](https://developers.google.com/earth-engine/datasets/catalog/USGS_SRTMGL1_003).\n",
    "- **ee.Image('assetID')**: In GEE raster data are represented as Image objects (see the next topic). \n",
    "- **ee.Image.clip(ee.Geometry.____)**: Is a ee.Image method used to crop spatially all the bands in Images.\n",
    "- **folium**: bridge between Python and [Leaflet](https://leafletjs.com/)\n"
   ]
  },
  {
   "cell_type": "code",
   "execution_count": 20,
   "metadata": {
    "colab": {
     "base_uri": "https://localhost:8080/",
     "height": 559
    },
    "colab_type": "code",
    "id": "GeMYFEvKy43n",
    "outputId": "208a7be4-8ba5-4e03-f220-c53c6096cc33"
   },
   "outputs": [],
   "source": [
    "import folium"
   ]
  },
  {
   "cell_type": "code",
   "execution_count": 26,
   "metadata": {},
   "outputs": [],
   "source": [
    "# get image and clip it to the region of interest\n",
    "Peru = ee.Image(\"USGS/SRTMGL1_003\").clip(ee.Geometry.Rectangle(-85, -20, -65,0))"
   ]
  },
  {
   "cell_type": "code",
   "execution_count": 30,
   "metadata": {},
   "outputs": [],
   "source": [
    "# Use folium to visualize the imagery.\n",
    "mapid = Peru.getMapId({'pallete': ['black', 'white'], 'min': 0, 'max': 3000})"
   ]
  },
  {
   "cell_type": "code",
   "execution_count": 31,
   "metadata": {},
   "outputs": [],
   "source": [
    "tiles = ee.data.getTileUrl(mapid, 8014, 4817, 37)\n",
    "tiles = tiles[:-12] + \"{z}/{x}/{y}\""
   ]
  },
  {
   "cell_type": "code",
   "execution_count": 37,
   "metadata": {},
   "outputs": [],
   "source": [
    "del(map)\n",
    "map = folium.Map(location=[-10, -75],zoom_start=5)"
   ]
  },
  {
   "cell_type": "code",
   "execution_count": 38,
   "metadata": {
    "collapsed": true,
    "jupyter": {
     "outputs_hidden": true
    }
   },
   "outputs": [
    {
     "data": {
      "text/html": [
       "<div style=\"width:100%;\"><div style=\"position:relative;width:100%;height:0;padding-bottom:60%;\"><iframe src=\"data:text/html;charset=utf-8;base64,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\" style=\"position:absolute;width:100%;height:100%;left:0;top:0;border:none !important;\" allowfullscreen webkitallowfullscreen mozallowfullscreen></iframe></div></div>"
      ],
      "text/plain": [
       "<folium.folium.Map at 0x11007b050>"
      ]
     },
     "execution_count": 38,
     "metadata": {},
     "output_type": "execute_result"
    }
   ],
   "source": [
    "folium.TileLayer(\n",
    "    tiles=tiles,\n",
    "    attr='Google Earth Engine',\n",
    "    overlay=True,\n",
    "    name='median composite',\n",
    "  ).add_to(map)\n",
    "map.add_child(folium.LayerControl())\n",
    "map"
   ]
  },
  {
   "cell_type": "markdown",
   "metadata": {
    "colab_type": "text",
    "id": "7QhIzsv01DU5"
   },
   "source": [
    "## 7. Fundamental Earth Engine data structures\n",
    "\n",
    "The two most fundamental geographic data structures in Earth Engine are **`Image`** and **`Feature`** corresponding to raster and vector data types, respectively. Images are composed of bands and a dictionary of properties. Features are composed of a **`Geometry`** and a dictionary of properties. A stack of images (e.g. an image time series) is handled by an **`ImageCollection`**. A collection of features is handled by a  **`FeatureCollection`**. Other fundamental data structures in Earth Engine include:\n",
    "\n",
    "- `Dictionary`\n",
    "- `List`\n",
    "- `Array`\n",
    "- `Geometry`\n",
    "- `Date`\n",
    "- `Number`\n",
    "- `String`.\n",
    "\n",
    "It is important to remember that these are all **server-side objects (or containers)**. That is, your client browser does not know anything about the objects in your script unless you explicitly request information about them. That request triggers a message being passed from Google to the Python API. If the message is large, there will be a corresponding slow down. Existing two ways to inspect **Earth Engine containers**  in Python console. The first one, `print()` that return the  petition (as a JSON) to the server and `*.getInfo()` that returns the contents of the `container`.  The next section summaries all the Data Structures mentioned above.\n",
    "\n"
   ]
  },
  {
   "cell_type": "markdown",
   "metadata": {
    "colab_type": "text",
    "id": "LzAFvH1p4L_C"
   },
   "source": [
    "#### 7.1. Strings\n",
    "\n",
    "Define a Python string, then put it into the **`ee.String()`** container to be sent to Earth Engine:"
   ]
  },
  {
   "cell_type": "code",
   "execution_count": 39,
   "metadata": {
    "colab": {},
    "colab_type": "code",
    "id": "NDvyLLcw16Dw"
   },
   "outputs": [
    {
     "name": "stdout",
     "output_type": "stream",
     "text": [
      "Where to? ee.String(\"To the cloud!\")\n"
     ]
    },
    {
     "data": {
      "text/plain": [
       "<ee.ee_string.String at 0x123c8abd0>"
      ]
     },
     "execution_count": 39,
     "metadata": {},
     "output_type": "execute_result"
    }
   ],
   "source": [
    "# Define a string, then put it into an EE container.\n",
    "ee_string = 'To the cloud!'\n",
    "ee_string = ee.String(ee_string)\n",
    "print('Where to?', ee_string)\n",
    "ee_string"
   ]
  },
  {
   "cell_type": "markdown",
   "metadata": {
    "colab_type": "text",
    "id": "zgmudfl-2Ek6"
   },
   "source": [
    "Think of **`ee.Thing`** as a container for a thing that exists on the server. In this example, the string is defined first, then put into the container. \n",
    "\n",
    "### 7.2. Numbers\n",
    "\n",
    "Use **`ee.Number()`** to create number objects on the server."
   ]
  },
  {
   "cell_type": "code",
   "execution_count": 40,
   "metadata": {
    "colab": {},
    "colab_type": "code",
    "id": "w0VGwFim3Ugp"
   },
   "outputs": [
    {
     "name": "stdout",
     "output_type": "stream",
     "text": [
      "e= ee.Number(2.718281828459045)\n"
     ]
    },
    {
     "data": {
      "text/plain": [
       "<ee.ee_number.Number at 0x123b9bd50>"
      ]
     },
     "execution_count": 40,
     "metadata": {},
     "output_type": "execute_result"
    }
   ],
   "source": [
    "# Define a number that exists on the server.\n",
    "import numpy as np\n",
    "ee_number = ee.Number(np.e)\n",
    "print('e=', ee_number)\n",
    "ee_number"
   ]
  },
  {
   "cell_type": "markdown",
   "metadata": {
    "colab_type": "text",
    "id": "-IFAt2YT3Ytx"
   },
   "source": [
    "### 7.3. Lists\n",
    "\n",
    "To make a Python list into an **`ee.List`** object on the server, you can put a Python literal into a container as with numbers and strings. Earth Engine also provides server-side convenience methods for making sequences of numbers.\n",
    "\n"
   ]
  },
  {
   "cell_type": "code",
   "execution_count": 41,
   "metadata": {
    "colab": {},
    "colab_type": "code",
    "id": "J1kzgip03XPb"
   },
   "outputs": [
    {
     "name": "stdout",
     "output_type": "stream",
     "text": [
      "Sequence: ee.List({\n",
      "  \"type\": \"Invocation\",\n",
      "  \"arguments\": {\n",
      "    \"start\": 1,\n",
      "    \"end\": 5\n",
      "  },\n",
      "  \"functionName\": \"List.sequence\"\n",
      "})\n",
      "Opening the container: [1, 2, 3, 4, 5]\n"
     ]
    }
   ],
   "source": [
    "# Make a sequence the hard way.\n",
    "ee_list = ee.List([1, 2, 3, 4, 5])\n",
    "\n",
    "# Make a sequence the easy way!\n",
    "ee_sequence = ee.List.sequence(1, 5);\n",
    "\n",
    "print('Sequence:', ee_sequence)\n",
    "print('Opening the container:', ee_sequence.getInfo())"
   ]
  },
  {
   "cell_type": "markdown",
   "metadata": {
    "colab_type": "text",
    "id": "yXsITlrg3c4U"
   },
   "source": [
    "### 7.4. Dictionaries\n",
    "\n",
    "You can construct an Earth Engine `Dictionary` from a Python object, as with strings, numbers and lists. At construction time, you can use Python functionality to initialize the Earth Engine object. In this case an ee.Dictionary is constructed directly from a Python literal object:"
   ]
  },
  {
   "cell_type": "code",
   "execution_count": 42,
   "metadata": {
    "colab": {},
    "colab_type": "code",
    "id": "p808bk_F3dTZ"
   },
   "outputs": [],
   "source": [
    "dictionary = ee.Dictionary({\n",
    "  'e': np.e,\n",
    "  'pi': np.pi,\n",
    "  'phi': (1 + np.sqrt(5))/2\n",
    "})"
   ]
  },
  {
   "cell_type": "code",
   "execution_count": 44,
   "metadata": {},
   "outputs": [
    {
     "name": "stdout",
     "output_type": "stream",
     "text": [
      "Euler: 2.718281828459045\n",
      "Pi: 3.141592653589793\n",
      "Golden ratio: 1.618033988749895\n"
     ]
    }
   ],
   "source": [
    "# Get some values from the dictionary.\n",
    "print('Euler:', dictionary.get('e').getInfo())\n",
    "print('Pi:', dictionary.get('pi').getInfo())\n",
    "print('Golden ratio:', dictionary.get('phi').getInfo())"
   ]
  },
  {
   "cell_type": "code",
   "execution_count": 45,
   "metadata": {},
   "outputs": [
    {
     "name": "stdout",
     "output_type": "stream",
     "text": [
      "Keys:  ['e', 'phi', 'pi']\n"
     ]
    }
   ],
   "source": [
    "# Get all the keys:\n",
    "print('Keys: ', dictionary.keys().getInfo())"
   ]
  },
  {
   "cell_type": "markdown",
   "metadata": {
    "colab_type": "text",
    "id": "VapD_lKe3h1h"
   },
   "source": [
    "In this example, observe that once you have an `ee.Dictionary`, you must use methods on the `ee.Dictionary` to get values. Specifically, get(key) returns the value associated with key. Since the type of object returned by `get()` could be anything, if you're going to do anything to the object other then print it, you need to cast it to the right type. Also note that the `keys()` method returns an List."
   ]
  },
  {
   "cell_type": "markdown",
   "metadata": {
    "colab_type": "text",
    "id": "O08_uhb63puh"
   },
   "source": [
    "### 7.5. Dates\n",
    "\n",
    "Date objects are the way Earth Engine represents time. As in the previous examples, it is important to distinguish between a Python Date object and an Earth Engine `ee.Date` object.\n",
    "\n",
    "A Date object can be construct from:\n",
    "  - A string.\n",
    "  - Python [datetime](https://docs.python.org/3/library/datetime.html) object.\n",
    "  - Static methods provided by the ee.Date class.\n",
    "  \n",
    "The next examples illustrates the construction of dates from these three forms."
   ]
  },
  {
   "cell_type": "code",
   "execution_count": 46,
   "metadata": {
    "colab": {},
    "colab_type": "code",
    "id": "8QOrLUcP3icW"
   },
   "outputs": [
    {
     "name": "stdout",
     "output_type": "stream",
     "text": [
      "Date: ee.Date({\n",
      "  \"type\": \"Invocation\",\n",
      "  \"arguments\": {\n",
      "    \"value\": \"2015-12-31\"\n",
      "  },\n",
      "  \"functionName\": \"Date\"\n",
      "})\n",
      "Date: {'type': 'Date', 'value': 1451520000000}\n"
     ]
    }
   ],
   "source": [
    "# Define a date in Earth Engine.\n",
    "date = ee.Date('2015-12-31')\n",
    "print('Date:', date)\n",
    "print('Date:', date.getInfo())"
   ]
  },
  {
   "cell_type": "markdown",
   "metadata": {
    "colab_type": "text",
    "id": "QSLwbOtd3uuE"
   },
   "source": [
    "In earth engine the date is representing with timestamps since midnight on January 1, 1970 considering an in milliseconds timestep . "
   ]
  },
  {
   "cell_type": "code",
   "execution_count": 47,
   "metadata": {
    "colab": {},
    "colab_type": "code",
    "id": "z7ZMj2FI3wc2"
   },
   "outputs": [
    {
     "name": "stdout",
     "output_type": "stream",
     "text": [
      "Milliseconds since January 1, 1970 2019-12-17 11:17:09.199918\n"
     ]
    }
   ],
   "source": [
    "# Get the current time using the JavaScript Date.now() method.\n",
    "import datetime as dt\n",
    "now = dt.datetime.now()\n",
    "print('Milliseconds since January 1, 1970', now)"
   ]
  },
  {
   "cell_type": "code",
   "execution_count": 48,
   "metadata": {},
   "outputs": [
    {
     "name": "stdout",
     "output_type": "stream",
     "text": [
      "Now: ee.Date({\n",
      "  \"type\": \"Invocation\",\n",
      "  \"arguments\": {\n",
      "    \"value\": 1576581429199\n",
      "  },\n",
      "  \"functionName\": \"Date\"\n",
      "})\n"
     ]
    }
   ],
   "source": [
    "# Initialize an ee.Date object.\n",
    "eeNow = ee.Date(now)\n",
    "print('Now:', eeNow)"
   ]
  },
  {
   "cell_type": "code",
   "execution_count": 49,
   "metadata": {},
   "outputs": [
    {
     "data": {
      "text/plain": [
       "{'type': 'Date', 'value': 1576581429199}"
      ]
     },
     "execution_count": 49,
     "metadata": {},
     "output_type": "execute_result"
    }
   ],
   "source": [
    "eeNow.getInfo()"
   ]
  },
  {
   "cell_type": "markdown",
   "metadata": {
    "colab_type": "text",
    "id": "ya02lB5K3zAY"
   },
   "source": [
    "Arguments to Earth Engine methods can be passed in order, for example to create an `ee.Date` from year, month and day, you can pass parameters of the `fromYMD()` static method in the order year, month, day:\n",
    "\n"
   ]
  },
  {
   "cell_type": "code",
   "execution_count": 50,
   "metadata": {
    "colab": {},
    "colab_type": "code",
    "id": "rm8Ae53731KW"
   },
   "outputs": [
    {
     "name": "stdout",
     "output_type": "stream",
     "text": [
      "aDate: ee.Date({\n",
      "  \"type\": \"Invocation\",\n",
      "  \"arguments\": {\n",
      "    \"year\": 2017,\n",
      "    \"month\": 1,\n",
      "    \"day\": 13\n",
      "  },\n",
      "  \"functionName\": \"Date.fromYMD\"\n",
      "})\n"
     ]
    }
   ],
   "source": [
    "aDate = ee.Date.fromYMD(2017, 1, 13)\n",
    "print('aDate:', aDate)"
   ]
  },
  {
   "cell_type": "markdown",
   "metadata": {
    "colab_type": "text",
    "id": "wxOiCbzJg9k8"
   },
   "source": [
    "---"
   ]
  }
 ],
 "metadata": {
  "colab": {
   "collapsed_sections": [],
   "name": "0_WhatIsColab.ipynb",
   "provenance": [],
   "toc_visible": true,
   "version": "0.3.2"
  },
  "kernelspec": {
   "display_name": "Python 3",
   "language": "python",
   "name": "python3"
  },
  "language_info": {
   "codemirror_mode": {
    "name": "ipython",
    "version": 3
   },
   "file_extension": ".py",
   "mimetype": "text/x-python",
   "name": "python",
   "nbconvert_exporter": "python",
   "pygments_lexer": "ipython3",
   "version": "3.7.5"
  }
 },
 "nbformat": 4,
 "nbformat_minor": 4
}
